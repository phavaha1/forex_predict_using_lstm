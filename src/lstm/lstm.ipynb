{
  "nbformat": 4,
  "nbformat_minor": 0,
  "metadata": {
    "colab": {
      "name": "forex_price_predict_using_keras_2.ipynb",
      "provenance": [],
      "collapsed_sections": []
    },
    "kernelspec": {
      "name": "python3",
      "display_name": "Python 3"
    },
    "accelerator": "GPU"
  },
  "cells": [
    {
      "cell_type": "markdown",
      "metadata": {
        "id": "mPGKg026h-Qx",
        "colab_type": "text"
      },
      "source": [
        "# Data Processing"
      ]
    },
    {
      "cell_type": "code",
      "metadata": {
        "id": "U5d_hMKjjBWK",
        "colab_type": "code",
        "outputId": "bdca96ff-e09f-44f9-f623-1f246b68ec8c",
        "colab": {
          "base_uri": "https://localhost:8080/",
          "height": 54
        }
      },
      "source": [
        "from google.colab import drive\n",
        "drive.mount('/content/drive')"
      ],
      "execution_count": 25,
      "outputs": [
        {
          "output_type": "stream",
          "text": [
            "Drive already mounted at /content/drive; to attempt to forcibly remount, call drive.mount(\"/content/drive\", force_remount=True).\n"
          ],
          "name": "stdout"
        }
      ]
    },
    {
      "cell_type": "code",
      "metadata": {
        "id": "hHKMz1R9hpu8",
        "colab_type": "code",
        "colab": {}
      },
      "source": [
        "# Recurrent Neural Network\n",
        "\n",
        "# Part 1 - Data Preprocessing\n",
        "\n",
        "# Importing the libraries\n",
        "import numpy as np\n",
        "import matplotlib.pyplot as plt\n",
        "import pandas as pd"
      ],
      "execution_count": 0,
      "outputs": []
    },
    {
      "cell_type": "code",
      "metadata": {
        "id": "AZOnT4W6_wJa",
        "colab_type": "code",
        "colab": {}
      },
      "source": [
        "# load data\n",
        "dataset = pd.read_csv('/content/drive/My Drive/data/forex/HISTDATA_COM_MT_EURUSD_M12012/DAT_MT_EURUSD_M1_2012.csv', header=None, names=['date','hour','open','high','low','close','volume'])"
      ],
      "execution_count": 0,
      "outputs": []
    },
    {
      "cell_type": "code",
      "metadata": {
        "id": "SJhzTJpMa9O3",
        "colab_type": "code",
        "colab": {}
      },
      "source": [
        "dataset = dataset.fillna(method='ffill')"
      ],
      "execution_count": 0,
      "outputs": []
    },
    {
      "cell_type": "code",
      "metadata": {
        "id": "Pqy81y50AJlm",
        "colab_type": "code",
        "outputId": "27c9a8ea-50e5-4ce7-ac61-45b6511d19db",
        "colab": {
          "base_uri": "https://localhost:8080/",
          "height": 297
        }
      },
      "source": [
        "dataset.describe()"
      ],
      "execution_count": 29,
      "outputs": [
        {
          "output_type": "execute_result",
          "data": {
            "text/html": [
              "<div>\n",
              "<style scoped>\n",
              "    .dataframe tbody tr th:only-of-type {\n",
              "        vertical-align: middle;\n",
              "    }\n",
              "\n",
              "    .dataframe tbody tr th {\n",
              "        vertical-align: top;\n",
              "    }\n",
              "\n",
              "    .dataframe thead th {\n",
              "        text-align: right;\n",
              "    }\n",
              "</style>\n",
              "<table border=\"1\" class=\"dataframe\">\n",
              "  <thead>\n",
              "    <tr style=\"text-align: right;\">\n",
              "      <th></th>\n",
              "      <th>open</th>\n",
              "      <th>high</th>\n",
              "      <th>low</th>\n",
              "      <th>close</th>\n",
              "      <th>volume</th>\n",
              "    </tr>\n",
              "  </thead>\n",
              "  <tbody>\n",
              "    <tr>\n",
              "      <th>count</th>\n",
              "      <td>372161.000000</td>\n",
              "      <td>372161.000000</td>\n",
              "      <td>372161.000000</td>\n",
              "      <td>372161.000000</td>\n",
              "      <td>372161.0</td>\n",
              "    </tr>\n",
              "    <tr>\n",
              "      <th>mean</th>\n",
              "      <td>1.285481</td>\n",
              "      <td>1.285586</td>\n",
              "      <td>1.285376</td>\n",
              "      <td>1.285481</td>\n",
              "      <td>0.0</td>\n",
              "    </tr>\n",
              "    <tr>\n",
              "      <th>std</th>\n",
              "      <td>0.032703</td>\n",
              "      <td>0.032704</td>\n",
              "      <td>0.032703</td>\n",
              "      <td>0.032703</td>\n",
              "      <td>0.0</td>\n",
              "    </tr>\n",
              "    <tr>\n",
              "      <th>min</th>\n",
              "      <td>1.204480</td>\n",
              "      <td>1.204740</td>\n",
              "      <td>1.204140</td>\n",
              "      <td>1.204500</td>\n",
              "      <td>0.0</td>\n",
              "    </tr>\n",
              "    <tr>\n",
              "      <th>25%</th>\n",
              "      <td>1.258180</td>\n",
              "      <td>1.258300</td>\n",
              "      <td>1.258070</td>\n",
              "      <td>1.258180</td>\n",
              "      <td>0.0</td>\n",
              "    </tr>\n",
              "    <tr>\n",
              "      <th>50%</th>\n",
              "      <td>1.292970</td>\n",
              "      <td>1.293060</td>\n",
              "      <td>1.292880</td>\n",
              "      <td>1.292970</td>\n",
              "      <td>0.0</td>\n",
              "    </tr>\n",
              "    <tr>\n",
              "      <th>75%</th>\n",
              "      <td>1.312350</td>\n",
              "      <td>1.312470</td>\n",
              "      <td>1.312240</td>\n",
              "      <td>1.312350</td>\n",
              "      <td>0.0</td>\n",
              "    </tr>\n",
              "    <tr>\n",
              "      <th>max</th>\n",
              "      <td>1.348440</td>\n",
              "      <td>1.348560</td>\n",
              "      <td>1.348390</td>\n",
              "      <td>1.348430</td>\n",
              "      <td>0.0</td>\n",
              "    </tr>\n",
              "  </tbody>\n",
              "</table>\n",
              "</div>"
            ],
            "text/plain": [
              "                open           high            low          close    volume\n",
              "count  372161.000000  372161.000000  372161.000000  372161.000000  372161.0\n",
              "mean        1.285481       1.285586       1.285376       1.285481       0.0\n",
              "std         0.032703       0.032704       0.032703       0.032703       0.0\n",
              "min         1.204480       1.204740       1.204140       1.204500       0.0\n",
              "25%         1.258180       1.258300       1.258070       1.258180       0.0\n",
              "50%         1.292970       1.293060       1.292880       1.292970       0.0\n",
              "75%         1.312350       1.312470       1.312240       1.312350       0.0\n",
              "max         1.348440       1.348560       1.348390       1.348430       0.0"
            ]
          },
          "metadata": {
            "tags": []
          },
          "execution_count": 29
        }
      ]
    },
    {
      "cell_type": "code",
      "metadata": {
        "id": "s-dczZd3WViU",
        "colab_type": "code",
        "outputId": "fb5366d9-8545-49e7-a19f-91733226b9f7",
        "colab": {
          "base_uri": "https://localhost:8080/",
          "height": 173
        }
      },
      "source": [
        " dataset.head(4)"
      ],
      "execution_count": 30,
      "outputs": [
        {
          "output_type": "execute_result",
          "data": {
            "text/html": [
              "<div>\n",
              "<style scoped>\n",
              "    .dataframe tbody tr th:only-of-type {\n",
              "        vertical-align: middle;\n",
              "    }\n",
              "\n",
              "    .dataframe tbody tr th {\n",
              "        vertical-align: top;\n",
              "    }\n",
              "\n",
              "    .dataframe thead th {\n",
              "        text-align: right;\n",
              "    }\n",
              "</style>\n",
              "<table border=\"1\" class=\"dataframe\">\n",
              "  <thead>\n",
              "    <tr style=\"text-align: right;\">\n",
              "      <th></th>\n",
              "      <th>date</th>\n",
              "      <th>hour</th>\n",
              "      <th>open</th>\n",
              "      <th>high</th>\n",
              "      <th>low</th>\n",
              "      <th>close</th>\n",
              "      <th>volume</th>\n",
              "    </tr>\n",
              "  </thead>\n",
              "  <tbody>\n",
              "    <tr>\n",
              "      <th>0</th>\n",
              "      <td>2012.01.02</td>\n",
              "      <td>02:00</td>\n",
              "      <td>1.29324</td>\n",
              "      <td>1.29381</td>\n",
              "      <td>1.29324</td>\n",
              "      <td>1.29332</td>\n",
              "      <td>0</td>\n",
              "    </tr>\n",
              "    <tr>\n",
              "      <th>1</th>\n",
              "      <td>2012.01.02</td>\n",
              "      <td>02:01</td>\n",
              "      <td>1.29326</td>\n",
              "      <td>1.29345</td>\n",
              "      <td>1.29275</td>\n",
              "      <td>1.29341</td>\n",
              "      <td>0</td>\n",
              "    </tr>\n",
              "    <tr>\n",
              "      <th>2</th>\n",
              "      <td>2012.01.02</td>\n",
              "      <td>02:02</td>\n",
              "      <td>1.29342</td>\n",
              "      <td>1.29344</td>\n",
              "      <td>1.29341</td>\n",
              "      <td>1.29343</td>\n",
              "      <td>0</td>\n",
              "    </tr>\n",
              "    <tr>\n",
              "      <th>3</th>\n",
              "      <td>2012.01.02</td>\n",
              "      <td>02:03</td>\n",
              "      <td>1.29342</td>\n",
              "      <td>1.29342</td>\n",
              "      <td>1.29335</td>\n",
              "      <td>1.29336</td>\n",
              "      <td>0</td>\n",
              "    </tr>\n",
              "  </tbody>\n",
              "</table>\n",
              "</div>"
            ],
            "text/plain": [
              "         date   hour     open     high      low    close  volume\n",
              "0  2012.01.02  02:00  1.29324  1.29381  1.29324  1.29332       0\n",
              "1  2012.01.02  02:01  1.29326  1.29345  1.29275  1.29341       0\n",
              "2  2012.01.02  02:02  1.29342  1.29344  1.29341  1.29343       0\n",
              "3  2012.01.02  02:03  1.29342  1.29342  1.29335  1.29336       0"
            ]
          },
          "metadata": {
            "tags": []
          },
          "execution_count": 30
        }
      ]
    },
    {
      "cell_type": "code",
      "metadata": {
        "id": "8S-J_nL2koFu",
        "colab_type": "code",
        "outputId": "69c86359-ef49-43c2-e358-4483ef8f0501",
        "colab": {
          "base_uri": "https://localhost:8080/",
          "height": 111
        }
      },
      "source": [
        "dataset.loc[1:2]"
      ],
      "execution_count": 31,
      "outputs": [
        {
          "output_type": "execute_result",
          "data": {
            "text/html": [
              "<div>\n",
              "<style scoped>\n",
              "    .dataframe tbody tr th:only-of-type {\n",
              "        vertical-align: middle;\n",
              "    }\n",
              "\n",
              "    .dataframe tbody tr th {\n",
              "        vertical-align: top;\n",
              "    }\n",
              "\n",
              "    .dataframe thead th {\n",
              "        text-align: right;\n",
              "    }\n",
              "</style>\n",
              "<table border=\"1\" class=\"dataframe\">\n",
              "  <thead>\n",
              "    <tr style=\"text-align: right;\">\n",
              "      <th></th>\n",
              "      <th>date</th>\n",
              "      <th>hour</th>\n",
              "      <th>open</th>\n",
              "      <th>high</th>\n",
              "      <th>low</th>\n",
              "      <th>close</th>\n",
              "      <th>volume</th>\n",
              "    </tr>\n",
              "  </thead>\n",
              "  <tbody>\n",
              "    <tr>\n",
              "      <th>1</th>\n",
              "      <td>2012.01.02</td>\n",
              "      <td>02:01</td>\n",
              "      <td>1.29326</td>\n",
              "      <td>1.29345</td>\n",
              "      <td>1.29275</td>\n",
              "      <td>1.29341</td>\n",
              "      <td>0</td>\n",
              "    </tr>\n",
              "    <tr>\n",
              "      <th>2</th>\n",
              "      <td>2012.01.02</td>\n",
              "      <td>02:02</td>\n",
              "      <td>1.29342</td>\n",
              "      <td>1.29344</td>\n",
              "      <td>1.29341</td>\n",
              "      <td>1.29343</td>\n",
              "      <td>0</td>\n",
              "    </tr>\n",
              "  </tbody>\n",
              "</table>\n",
              "</div>"
            ],
            "text/plain": [
              "         date   hour     open     high      low    close  volume\n",
              "1  2012.01.02  02:01  1.29326  1.29345  1.29275  1.29341       0\n",
              "2  2012.01.02  02:02  1.29342  1.29344  1.29341  1.29343       0"
            ]
          },
          "metadata": {
            "tags": []
          },
          "execution_count": 31
        }
      ]
    },
    {
      "cell_type": "code",
      "metadata": {
        "id": "6E1Zpov7k08a",
        "colab_type": "code",
        "outputId": "9d6545e5-995f-4621-a5c4-0ce0d155e390",
        "colab": {
          "base_uri": "https://localhost:8080/",
          "height": 34
        }
      },
      "source": [
        "type(dataset)"
      ],
      "execution_count": 32,
      "outputs": [
        {
          "output_type": "execute_result",
          "data": {
            "text/plain": [
              "pandas.core.frame.DataFrame"
            ]
          },
          "metadata": {
            "tags": []
          },
          "execution_count": 32
        }
      ]
    },
    {
      "cell_type": "code",
      "metadata": {
        "id": "IAIF9OC0WLAS",
        "colab_type": "code",
        "outputId": "af7dbe87-5f1e-44a0-9da9-f4b11eb5b0c9",
        "colab": {
          "base_uri": "https://localhost:8080/",
          "height": 34
        }
      },
      "source": [
        "dataset.columns"
      ],
      "execution_count": 33,
      "outputs": [
        {
          "output_type": "execute_result",
          "data": {
            "text/plain": [
              "Index(['date', 'hour', 'open', 'high', 'low', 'close', 'volume'], dtype='object')"
            ]
          },
          "metadata": {
            "tags": []
          },
          "execution_count": 33
        }
      ]
    },
    {
      "cell_type": "code",
      "metadata": {
        "id": "JDdWRLhZbH83",
        "colab_type": "code",
        "outputId": "56eb9756-ef34-43c4-bcb1-a0401bfaf6aa",
        "colab": {
          "base_uri": "https://localhost:8080/",
          "height": 34
        }
      },
      "source": [
        "dataset['open'].values"
      ],
      "execution_count": 34,
      "outputs": [
        {
          "output_type": "execute_result",
          "data": {
            "text/plain": [
              "array([1.29324, 1.29326, 1.29342, ..., 1.31935, 1.31927, 1.31951])"
            ]
          },
          "metadata": {
            "tags": []
          },
          "execution_count": 34
        }
      ]
    },
    {
      "cell_type": "code",
      "metadata": {
        "id": "hmDXPNEACM2k",
        "colab_type": "code",
        "colab": {}
      },
      "source": [
        "minimized_ds = dataset.loc[dataset['hour'].isin(['00:00'])]"
      ],
      "execution_count": 0,
      "outputs": []
    },
    {
      "cell_type": "code",
      "metadata": {
        "id": "jSXluqd4PedT",
        "colab_type": "code",
        "colab": {}
      },
      "source": [
        "all_values = minimized_ds.iloc[:,2:6].values"
      ],
      "execution_count": 0,
      "outputs": []
    },
    {
      "cell_type": "code",
      "metadata": {
        "id": "rzrqHZolzgKi",
        "colab_type": "code",
        "colab": {}
      },
      "source": [
        "# create the training set and test set\n",
        "from sklearn.model_selection import train_test_split\n",
        "train_df, test_df = train_test_split(minimized_ds, test_size=0.05, shuffle=False)\n",
        "training_set = train_df.iloc[:, 2:6].values\n",
        "test_set = test_df.iloc[:, 2:6].values"
      ],
      "execution_count": 0,
      "outputs": []
    },
    {
      "cell_type": "code",
      "metadata": {
        "id": "XMXFdirgk-d4",
        "colab_type": "code",
        "colab": {}
      },
      "source": [
        "# Feature Scaling\n",
        "from sklearn.preprocessing import MinMaxScaler\n",
        "sc = MinMaxScaler(feature_range = (0, 1))\n",
        "training_set_scaled = sc.fit_transform(training_set)"
      ],
      "execution_count": 0,
      "outputs": []
    },
    {
      "cell_type": "code",
      "metadata": {
        "id": "OxFihuqqqiGq",
        "colab_type": "code",
        "outputId": "9ba4cb03-5c01-4b98-8f5e-770d0fc22cdd",
        "colab": {
          "base_uri": "https://localhost:8080/",
          "height": 34
        }
      },
      "source": [
        "training_set_scaled.shape"
      ],
      "execution_count": 39,
      "outputs": [
        {
          "output_type": "execute_result",
          "data": {
            "text/plain": [
              "(245, 4)"
            ]
          },
          "metadata": {
            "tags": []
          },
          "execution_count": 39
        }
      ]
    },
    {
      "cell_type": "code",
      "metadata": {
        "id": "EhO3UKyNrlKp",
        "colab_type": "code",
        "colab": {}
      },
      "source": [
        "predict_size = 40"
      ],
      "execution_count": 0,
      "outputs": []
    },
    {
      "cell_type": "code",
      "metadata": {
        "id": "k8KyMXGalDhG",
        "colab_type": "code",
        "colab": {}
      },
      "source": [
        "# Creating a data structure with 60 timesteps and 1 output\n",
        "X_train = []\n",
        "y_train = []\n",
        "for i in range(predict_size, len(training_set)):\n",
        "    X_train.append(training_set_scaled[i-predict_size:i, :])\n",
        "    y_train.append(training_set_scaled[i, :])\n",
        "X_train, y_train = np.array(X_train), np.array(y_train)\n",
        "\n",
        "# Reshaping\n",
        "X_train = np.reshape(X_train, (X_train.shape[0], X_train.shape[1], 4))"
      ],
      "execution_count": 0,
      "outputs": []
    },
    {
      "cell_type": "code",
      "metadata": {
        "id": "7u2Ks_rXFyq6",
        "colab_type": "code",
        "outputId": "a7344a43-76e8-4d34-824f-e2089815450d",
        "colab": {
          "base_uri": "https://localhost:8080/",
          "height": 34
        }
      },
      "source": [
        "X_train.shape"
      ],
      "execution_count": 42,
      "outputs": [
        {
          "output_type": "execute_result",
          "data": {
            "text/plain": [
              "(205, 40, 4)"
            ]
          },
          "metadata": {
            "tags": []
          },
          "execution_count": 42
        }
      ]
    },
    {
      "cell_type": "code",
      "metadata": {
        "id": "vPtNIUHtK643",
        "colab_type": "code",
        "outputId": "1eff8a1d-3342-4bb0-901b-4680270ce859",
        "colab": {
          "base_uri": "https://localhost:8080/",
          "height": 34
        }
      },
      "source": [
        "y_train.shape"
      ],
      "execution_count": 43,
      "outputs": [
        {
          "output_type": "execute_result",
          "data": {
            "text/plain": [
              "(205, 4)"
            ]
          },
          "metadata": {
            "tags": []
          },
          "execution_count": 43
        }
      ]
    },
    {
      "cell_type": "markdown",
      "metadata": {
        "id": "XlwZfu3ch2mu",
        "colab_type": "text"
      },
      "source": [
        "# Training"
      ]
    },
    {
      "cell_type": "code",
      "metadata": {
        "id": "fd0GmI4rrWBW",
        "colab_type": "code",
        "outputId": "91a3ef8d-6481-47fe-e644-72690371ece7",
        "colab": {
          "base_uri": "https://localhost:8080/",
          "height": 34
        }
      },
      "source": [
        "X_train.shape[2]"
      ],
      "execution_count": 44,
      "outputs": [
        {
          "output_type": "execute_result",
          "data": {
            "text/plain": [
              "4"
            ]
          },
          "metadata": {
            "tags": []
          },
          "execution_count": 44
        }
      ]
    },
    {
      "cell_type": "code",
      "metadata": {
        "id": "TuM73KK6hvek",
        "colab_type": "code",
        "colab": {}
      },
      "source": [
        "# Part 2 - Building the RNN\n",
        "\n",
        "# Importing the Keras libraries and packages\n",
        "from keras.models import Sequential\n",
        "from keras.layers import Dense\n",
        "from keras.layers import LSTM\n",
        "from keras.layers import Dropout"
      ],
      "execution_count": 0,
      "outputs": []
    },
    {
      "cell_type": "code",
      "metadata": {
        "id": "YNw7L1EvlL6M",
        "colab_type": "code",
        "colab": {}
      },
      "source": [
        "# Initialising the RNN\n",
        "regressor = Sequential()\n",
        "\n",
        "# Adding the first LSTM layer and some Dropout regularisation\n",
        "regressor.add(LSTM(units = 50, return_sequences = True, input_shape = (X_train.shape[1], X_train.shape[2])))\n",
        "regressor.add(Dropout(0.2))\n",
        "\n",
        "# Adding a second LSTM layer and some Dropout regularisation\n",
        "regressor.add(LSTM(units = 50, return_sequences = True))\n",
        "regressor.add(Dropout(0.2))\n",
        "\n",
        "# Adding a third LSTM layer and some Dropout regularisation\n",
        "regressor.add(LSTM(units = 50, return_sequences = True))\n",
        "regressor.add(Dropout(0.2))\n",
        "\n",
        "# Adding a fourth LSTM layer and some Dropout regularisation\n",
        "regressor.add(LSTM(units = 50))\n",
        "regressor.add(Dropout(0.2))\n",
        "\n",
        "# Adding the output layer\n",
        "regressor.add(Dense(units = 4))"
      ],
      "execution_count": 0,
      "outputs": []
    },
    {
      "cell_type": "code",
      "metadata": {
        "id": "aUXFO55wl56F",
        "colab_type": "code",
        "outputId": "e45b9541-a1fe-4cc4-9184-1f3be65a36ca",
        "colab": {
          "base_uri": "https://localhost:8080/",
          "height": 714
        }
      },
      "source": [
        "# Compiling the RNN\n",
        "regressor.compile(optimizer = 'adam', loss = 'mean_squared_error')\n",
        "\n",
        "# Fitting the RNN to the Training set\n",
        "regressor.fit(X_train, y_train, epochs = 30, batch_size = 20)"
      ],
      "execution_count": 47,
      "outputs": [
        {
          "output_type": "stream",
          "text": [
            "Epoch 1/20\n",
            "205/205 [==============================] - 5s 25ms/step - loss: 0.1728\n",
            "Epoch 2/20\n",
            "205/205 [==============================] - 3s 12ms/step - loss: 0.0590\n",
            "Epoch 3/20\n",
            "205/205 [==============================] - 2s 11ms/step - loss: 0.0530\n",
            "Epoch 4/20\n",
            "205/205 [==============================] - 2s 11ms/step - loss: 0.0345\n",
            "Epoch 5/20\n",
            "205/205 [==============================] - 2s 12ms/step - loss: 0.0317\n",
            "Epoch 6/20\n",
            "205/205 [==============================] - 2s 11ms/step - loss: 0.0281\n",
            "Epoch 7/20\n",
            "205/205 [==============================] - 2s 12ms/step - loss: 0.0276\n",
            "Epoch 8/20\n",
            "205/205 [==============================] - 2s 11ms/step - loss: 0.0258\n",
            "Epoch 9/20\n",
            "205/205 [==============================] - 2s 12ms/step - loss: 0.0253\n",
            "Epoch 10/20\n",
            "205/205 [==============================] - 3s 12ms/step - loss: 0.0226\n",
            "Epoch 11/20\n",
            "205/205 [==============================] - 2s 12ms/step - loss: 0.0245\n",
            "Epoch 12/20\n",
            "205/205 [==============================] - 3s 13ms/step - loss: 0.0230\n",
            "Epoch 13/20\n",
            "205/205 [==============================] - 2s 12ms/step - loss: 0.0203\n",
            "Epoch 14/20\n",
            "205/205 [==============================] - 3s 12ms/step - loss: 0.0224\n",
            "Epoch 15/20\n",
            "205/205 [==============================] - 2s 12ms/step - loss: 0.0209\n",
            "Epoch 16/20\n",
            "205/205 [==============================] - 2s 12ms/step - loss: 0.0215\n",
            "Epoch 17/20\n",
            "205/205 [==============================] - 2s 12ms/step - loss: 0.0213\n",
            "Epoch 18/20\n",
            "205/205 [==============================] - 3s 12ms/step - loss: 0.0197\n",
            "Epoch 19/20\n",
            "205/205 [==============================] - 2s 12ms/step - loss: 0.0175\n",
            "Epoch 20/20\n",
            "205/205 [==============================] - 2s 11ms/step - loss: 0.0201\n"
          ],
          "name": "stdout"
        },
        {
          "output_type": "execute_result",
          "data": {
            "text/plain": [
              "<keras.callbacks.History at 0x7f33b73569e8>"
            ]
          },
          "metadata": {
            "tags": []
          },
          "execution_count": 47
        }
      ]
    },
    {
      "cell_type": "markdown",
      "metadata": {
        "id": "6hAyR4Q2iLu5",
        "colab_type": "text"
      },
      "source": [
        "# Making prediction and visualizing data"
      ]
    },
    {
      "cell_type": "code",
      "metadata": {
        "id": "IoRE_iv_DbJK",
        "colab_type": "code",
        "colab": {}
      },
      "source": [
        "inputs = np.concatenate((training_set[-(predict_size):],test_set))"
      ],
      "execution_count": 0,
      "outputs": []
    },
    {
      "cell_type": "code",
      "metadata": {
        "id": "sGKCkYdDMlQw",
        "colab_type": "code",
        "outputId": "c62ac9a0-0fbe-465c-c840-95114528caa2",
        "colab": {
          "base_uri": "https://localhost:8080/",
          "height": 34
        }
      },
      "source": [
        "inputs.shape"
      ],
      "execution_count": 49,
      "outputs": [
        {
          "output_type": "execute_result",
          "data": {
            "text/plain": [
              "(53, 4)"
            ]
          },
          "metadata": {
            "tags": []
          },
          "execution_count": 49
        }
      ]
    },
    {
      "cell_type": "code",
      "metadata": {
        "id": "SJeqKQ6Dar7b",
        "colab_type": "code",
        "colab": {}
      },
      "source": [
        "inputs = sc.transform(inputs)"
      ],
      "execution_count": 0,
      "outputs": []
    },
    {
      "cell_type": "code",
      "metadata": {
        "id": "JoqgH0Z338HP",
        "colab_type": "code",
        "colab": {}
      },
      "source": [
        "real_stock_price = test_set"
      ],
      "execution_count": 0,
      "outputs": []
    },
    {
      "cell_type": "code",
      "metadata": {
        "id": "4pdp1ghw4l6Z",
        "colab_type": "code",
        "colab": {}
      },
      "source": [
        "X_test = []\n",
        "for i in range(predict_size, len(inputs)):\n",
        "    X_test.append(inputs[i-predict_size:i, :])\n",
        "X_test = np.array(X_test)"
      ],
      "execution_count": 0,
      "outputs": []
    },
    {
      "cell_type": "code",
      "metadata": {
        "id": "Ad3HUibYMxzU",
        "colab_type": "code",
        "outputId": "64abb890-3c0e-452a-f603-1cbb51f393bd",
        "colab": {
          "base_uri": "https://localhost:8080/",
          "height": 34
        }
      },
      "source": [
        "X_test.shape"
      ],
      "execution_count": 53,
      "outputs": [
        {
          "output_type": "execute_result",
          "data": {
            "text/plain": [
              "(13, 40, 4)"
            ]
          },
          "metadata": {
            "tags": []
          },
          "execution_count": 53
        }
      ]
    },
    {
      "cell_type": "code",
      "metadata": {
        "id": "YhaO6NPNiRyH",
        "colab_type": "code",
        "colab": {}
      },
      "source": [
        "# get predicted price\n",
        "predicted_stock_price = regressor.predict(X_test)\n",
        "predicted_stock_price = sc.inverse_transform(predicted_stock_price)"
      ],
      "execution_count": 0,
      "outputs": []
    },
    {
      "cell_type": "code",
      "metadata": {
        "id": "WVf-izXHNF6F",
        "colab_type": "code",
        "outputId": "9ed1a4fb-4854-48f7-bd62-9ed21ffa7738",
        "colab": {
          "base_uri": "https://localhost:8080/",
          "height": 34
        }
      },
      "source": [
        "predicted_stock_price.shape"
      ],
      "execution_count": 55,
      "outputs": [
        {
          "output_type": "execute_result",
          "data": {
            "text/plain": [
              "(13, 4)"
            ]
          },
          "metadata": {
            "tags": []
          },
          "execution_count": 55
        }
      ]
    },
    {
      "cell_type": "code",
      "metadata": {
        "id": "C0ncCSLkNhDU",
        "colab_type": "code",
        "outputId": "2a3a85fd-9b91-4e80-d9b3-5e51f19f9ba1",
        "colab": {
          "base_uri": "https://localhost:8080/",
          "height": 51
        }
      },
      "source": [
        "real_stock_price[:,0]"
      ],
      "execution_count": 56,
      "outputs": [
        {
          "output_type": "execute_result",
          "data": {
            "text/plain": [
              "array([1.29491, 1.29966, 1.3083 , 1.30871, 1.31626, 1.31727, 1.32482,\n",
              "       1.32215, 1.31927, 1.31839, 1.32312, 1.32423, 1.31967])"
            ]
          },
          "metadata": {
            "tags": []
          },
          "execution_count": 56
        }
      ]
    },
    {
      "cell_type": "code",
      "metadata": {
        "id": "BQ_RG-LcNCOP",
        "colab_type": "code",
        "outputId": "569bd04c-e8a1-4605-9a98-95c1968a3540",
        "colab": {
          "base_uri": "https://localhost:8080/",
          "height": 607
        }
      },
      "source": [
        "# Visualising the results\n",
        "plt.figure(figsize=(10,10))\n",
        "# Open bid\n",
        "plt.subplot(221)\n",
        "plt.plot(real_stock_price[:,0], color = 'red', label = 'Open Bid')\n",
        "plt.plot(predicted_stock_price[:,0], color = 'blue', label = 'Predicted Open')\n",
        "plt.title('Open Bid')\n",
        "# plt.xlabel('Time')\n",
        "# plt.ylabel('EURUSD Price')\n",
        "plt.legend()\n",
        "\n",
        "# Close bid\n",
        "plt.subplot(222)\n",
        "plt.plot(real_stock_price[:,3], color = 'red', label = 'Close Bid')\n",
        "plt.plot(predicted_stock_price[:,3], color = 'blue', label = 'Predicted Close')\n",
        "plt.title('Close Bid')\n",
        "# plt.xlabel('Time')\n",
        "# plt.ylabel('EURUSD Price')\n",
        "plt.legend()\n",
        "\n",
        "# High bid\n",
        "plt.subplot(223)\n",
        "plt.plot(real_stock_price[:,1], color = 'red', label = 'High Bid')\n",
        "plt.plot(predicted_stock_price[:,1], color = 'blue', label = 'Predicted High')\n",
        "plt.title('High Bid')\n",
        "# plt.xlabel('Time')\n",
        "# plt.ylabel('EURUSD Price')\n",
        "plt.legend()\n",
        "\n",
        "# Low bid\n",
        "plt.subplot(224)\n",
        "plt.plot(real_stock_price[:,2], color = 'red', label = 'Low Bid')\n",
        "plt.plot(predicted_stock_price[:,2], color = 'blue', label = 'Predicted Low')\n",
        "plt.title('Low Bid')\n",
        "# plt.xlabel('Time')\n",
        "# plt.ylabel('EURUSD Price')\n",
        "plt.legend()\n",
        "\n",
        "plt.show()"
      ],
      "execution_count": 68,
      "outputs": [
        {
          "output_type": "display_data",
          "data": {
            "image/png": "[encoded data removed]",
            "text/plain": [
              "<Figure size 720x720 with 4 Axes>"
            ]
          },
          "metadata": {
            "tags": []
          }
        }
      ]
    },
    {
      "cell_type": "markdown",
      "metadata": {
        "id": "zSvk2BPB7WAf",
        "colab_type": "text"
      },
      "source": [
        "# Analysis model performance"
      ]
    },
    {
      "cell_type": "code",
      "metadata": {
        "id": "P5Jzt6kV_iUi",
        "colab_type": "code",
        "outputId": "092d616e-de7b-4106-bb54-599aa866cb74",
        "colab": {
          "base_uri": "https://localhost:8080/",
          "height": 34
        }
      },
      "source": [
        "type(predicted_stock_price)"
      ],
      "execution_count": 58,
      "outputs": [
        {
          "output_type": "execute_result",
          "data": {
            "text/plain": [
              "numpy.ndarray"
            ]
          },
          "metadata": {
            "tags": []
          },
          "execution_count": 58
        }
      ]
    },
    {
      "cell_type": "code",
      "metadata": {
        "id": "0xb8n5L_StWp",
        "colab_type": "code",
        "outputId": "eec4787b-62c7-42d8-87a8-c5bf662a39c7",
        "colab": {
          "base_uri": "https://localhost:8080/",
          "height": 34
        }
      },
      "source": [
        "type(all_values)"
      ],
      "execution_count": 59,
      "outputs": [
        {
          "output_type": "execute_result",
          "data": {
            "text/plain": [
              "numpy.ndarray"
            ]
          },
          "metadata": {
            "tags": []
          },
          "execution_count": 59
        }
      ]
    },
    {
      "cell_type": "code",
      "metadata": {
        "id": "eFdAfDUlP5NC",
        "colab_type": "code",
        "colab": {}
      },
      "source": [
        "past_open_data = all_values[len(all_values)-len(test_set)-1:-1,0]"
      ],
      "execution_count": 0,
      "outputs": []
    },
    {
      "cell_type": "code",
      "metadata": {
        "colab_type": "code",
        "outputId": "52bcd409-9c4a-4325-a55b-d6d28e105bb7",
        "id": "vE0eWkVnRPKA",
        "colab": {
          "base_uri": "https://localhost:8080/",
          "height": 34
        }
      },
      "source": [
        "past_open_data.shape"
      ],
      "execution_count": 61,
      "outputs": [
        {
          "output_type": "execute_result",
          "data": {
            "text/plain": [
              "(13,)"
            ]
          },
          "metadata": {
            "tags": []
          },
          "execution_count": 61
        }
      ]
    },
    {
      "cell_type": "code",
      "metadata": {
        "id": "pOCSnmJnRYkF",
        "colab_type": "code",
        "colab": {}
      },
      "source": [
        "predicted_direction = np.sign(predicted_stock_price[:,0] - past_open_data)"
      ],
      "execution_count": 0,
      "outputs": []
    },
    {
      "cell_type": "markdown",
      "metadata": {
        "id": "ctPU9YKGUnMZ",
        "colab_type": "text"
      },
      "source": [
        ""
      ]
    },
    {
      "cell_type": "code",
      "metadata": {
        "id": "7YU2otS7SJf_",
        "colab_type": "code",
        "colab": {}
      },
      "source": [
        "actual_direction = np.sign(real_stock_price[:,0] - past_open_data)"
      ],
      "execution_count": 0,
      "outputs": []
    },
    {
      "cell_type": "code",
      "metadata": {
        "id": "AgzKcm1r7efF",
        "colab_type": "code",
        "outputId": "0bb8e457-f5ce-4d90-9e47-b5f3db557443",
        "colab": {
          "base_uri": "https://localhost:8080/",
          "height": 255
        }
      },
      "source": [
        "# Calculate confusion matrix creation. \n",
        "from sklearn.metrics import confusion_matrix \n",
        "from sklearn.metrics import accuracy_score \n",
        "from sklearn.metrics import classification_report \n",
        "\n",
        "results = confusion_matrix(actual_direction, predicted_direction) \n",
        "print('Confusion Matrix :')\n",
        "print(results) \n",
        "print('Accuracy Score :',accuracy_score(actual_direction, predicted_direction))\n",
        "print('Report : ')\n",
        "print(classification_report(actual_direction, predicted_direction))"
      ],
      "execution_count": 64,
      "outputs": [
        {
          "output_type": "stream",
          "text": [
            "Confusion Matrix :\n",
            "[[4 0]\n",
            " [6 3]]\n",
            "Accuracy Score : 0.5384615384615384\n",
            "Report : \n",
            "              precision    recall  f1-score   support\n",
            "\n",
            "        -1.0       0.40      1.00      0.57         4\n",
            "         1.0       1.00      0.33      0.50         9\n",
            "\n",
            "    accuracy                           0.54        13\n",
            "   macro avg       0.70      0.67      0.54        13\n",
            "weighted avg       0.82      0.54      0.52        13\n",
            "\n"
          ],
          "name": "stdout"
        }
      ]
    },
    {
      "cell_type": "code",
      "metadata": {
        "id": "x4L6V05SR8z5",
        "colab_type": "code",
        "outputId": "8c742fe7-8f4d-41a8-ce97-9ec152c7aca7",
        "colab": {
          "base_uri": "https://localhost:8080/",
          "height": 51
        }
      },
      "source": [
        "# Calculate MSE of high and low bid\n",
        "high_mse = ((predicted_stock_price[:,1] - real_stock_price[:,1])**2).mean(axis=0)\n",
        "low_mse = ((predicted_stock_price[:,2] - real_stock_price[:,2])**2).mean(axis=0)\n",
        "print(\"High bid MSE is: \", high_mse)\n",
        "print(\"Low bid MSE is: \", low_mse)"
      ],
      "execution_count": 65,
      "outputs": [
        {
          "output_type": "stream",
          "text": [
            "High bid MSE is:  0.00023857759794326125\n",
            "Low bid MSE is:  0.0001564952146477923\n"
          ],
          "name": "stdout"
        }
      ]
    },
    {
      "cell_type": "code",
      "metadata": {
        "id": "4L66qIKpNfWO",
        "colab_type": "code",
        "outputId": "e0ce0994-4a82-437b-8c6e-0b53c32e246c",
        "colab": {
          "base_uri": "https://localhost:8080/",
          "height": 34
        }
      },
      "source": [
        "np.sign([1,1.1,-1.1])"
      ],
      "execution_count": 66,
      "outputs": [
        {
          "output_type": "execute_result",
          "data": {
            "text/plain": [
              "array([ 1.,  1., -1.])"
            ]
          },
          "metadata": {
            "tags": []
          },
          "execution_count": 66
        }
      ]
    },
    {
      "cell_type": "code",
      "metadata": {
        "id": "EaTysGb3OFHj",
        "colab_type": "code",
        "colab": {}
      },
      "source": [
        ""
      ],
      "execution_count": 0,
      "outputs": []
    }
  ]
}